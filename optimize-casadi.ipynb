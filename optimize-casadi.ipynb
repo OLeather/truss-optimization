{
 "cells": [
  {
   "cell_type": "code",
   "execution_count": 14,
   "metadata": {},
   "outputs": [
    {
     "name": "stdout",
     "output_type": "stream",
     "text": [
      "2167.82\n",
      "[[-55.2599, -8.73257e-11, 55.2599, -14.5016, 14.5016, 35.6914, 16.5629, 35.6914, -43.9728, -43.9728]]\n",
      "\n",
      "[[4741.2, -4457.49, -3.18323e-12, -1.43364, -282.28, -0.626324, 878.858, -830.336, -1659.17, 1611.27], \n",
      " [-4457.49, 8386.55, -4457.49, 264.209, 264.209, -781.814, 1.89806e-09, 781.814, 3075.76, -3075.76], \n",
      " [-3.18323e-12, -4457.49, 4741.2, -282.28, -1.43364, 830.336, -878.858, 0.626324, -1611.27, 1659.17], \n",
      " [-1.43364, 264.209, -282.28, 19.505, 2.19218e-14, -47.8954, 50.807, 1.0244e-13, 95.8864, -98.798], \n",
      " [-282.28, 264.209, -1.43364, 2.19218e-14, 19.505, -3.97904e-13, -50.807, 47.8954, 98.798, -95.8864], \n",
      " [-0.626324, -781.814, 830.336, -47.8954, -3.97904e-13, 152.048, -160.649, -4.68958e-13, -281.71, 290.311], \n",
      " [878.858, 1.89806e-09, -878.858, 50.807, -50.807, -160.649, 339.694, -160.649, -9.19826, -9.19826], \n",
      " [-830.336, 781.814, 0.626324, 1.0244e-13, 47.8954, -4.68958e-13, -160.649, 152.048, 290.311, -281.71], \n",
      " [-1659.17, 3075.76, -1611.27, 95.8864, 98.798, -281.71, -9.19826, 290.311, 1130.63, -1130.03], \n",
      " [1611.27, -3075.76, 1659.17, -98.798, -95.8864, 290.311, -9.19826, -281.71, -1130.03, 1130.63]]\n"
     ]
    }
   ],
   "source": [
    "from truss_casadi import *\n",
    "\n",
    "joints = [\n",
    "    Joint(JointType.PIN),  # 0\n",
    "    Joint(JointType.GUSSET), # 1\n",
    "    Joint(JointType.ROLLER), # 2 \n",
    "    Joint(JointType.GUSSET), # 3\n",
    "    Joint(JointType.GUSSET)] # 4\n",
    "\n",
    "links = [Link(0, 1), Link(1,2), Link(0,3), Link(1,3), Link(1,4), Link(2,4), Link(3,4)]\n",
    "\n",
    "FORCE_PER_M = 2.5\n",
    "train_force = Force(fx=0, fy=FORCE_PER_M, joints=[0, 1, 2])\n",
    "forces = [train_force]\n",
    "\n",
    "truss = Truss(joints, links, forces)\n",
    "\n",
    "cost = Function('cost', [truss.xs], [truss.cost])\n",
    "jac = Function('jacobian', [truss.xs], [truss.jacobian])\n",
    "hess = Function('hessian', [truss.xs], [truss.hessian])\n",
    "\n",
    "xs = [0, 7, 14, 3.5, 10.5]\n",
    "ys = [0, 0, 0, -20, -20]\n",
    "\n",
    "print(cost(xs + ys))\n",
    "print(jac(xs + ys))\n",
    "print(hess(xs + ys))"
   ]
  },
  {
   "cell_type": "code",
   "execution_count": 12,
   "metadata": {},
   "outputs": [
    {
     "ename": "RuntimeError",
     "evalue": "Error in SX::gradient at .../casadi/core/generic_matrix.hpp:1468:\nError in SX::jtimes at .../casadi/core/generic_matrix.hpp:1456:\nError in Function::Function for 'reverse_temp' [SXFunction] at .../casadi/core/function.cpp:224:\n.../casadi/core/function_internal.cpp:145: Error calling SXFunction::init for 'reverse_temp':\n.../casadi/core/x_function.hpp:331: For reverse_temp: Xfunction input arguments must be purely symbolic.\nArgument 0(i0) is not symbolic.",
     "output_type": "error",
     "traceback": [
      "\u001b[0;31m---------------------------------------------------------------------------\u001b[0m",
      "\u001b[0;31mRuntimeError\u001b[0m                              Traceback (most recent call last)",
      "\u001b[0;32m/tmp/ipykernel_5988/1250092698.py\u001b[0m in \u001b[0;36m?\u001b[0;34m()\u001b[0m\n\u001b[1;32m      1\u001b[0m \u001b[0mopti\u001b[0m \u001b[0;34m=\u001b[0m \u001b[0mOpti\u001b[0m\u001b[0;34m(\u001b[0m\u001b[0;34m)\u001b[0m\u001b[0;34m\u001b[0m\u001b[0;34m\u001b[0m\u001b[0m\n\u001b[1;32m      2\u001b[0m \u001b[0;34m\u001b[0m\u001b[0m\n\u001b[1;32m      3\u001b[0m \u001b[0mqp\u001b[0m \u001b[0;34m=\u001b[0m \u001b[0;34m{\u001b[0m\u001b[0;34m'x'\u001b[0m\u001b[0;34m:\u001b[0m\u001b[0mtruss\u001b[0m\u001b[0;34m.\u001b[0m\u001b[0mcost\u001b[0m\u001b[0;34m}\u001b[0m\u001b[0;34m\u001b[0m\u001b[0;34m\u001b[0m\u001b[0m\n\u001b[1;32m      4\u001b[0m \u001b[0;34m\u001b[0m\u001b[0m\n\u001b[0;32m----> 5\u001b[0;31m \u001b[0msolver\u001b[0m \u001b[0;34m=\u001b[0m \u001b[0mqpsol\u001b[0m\u001b[0;34m(\u001b[0m\u001b[0;34m'solver'\u001b[0m\u001b[0;34m,\u001b[0m \u001b[0;34m'qpoases'\u001b[0m\u001b[0;34m,\u001b[0m \u001b[0mqp\u001b[0m\u001b[0;34m,\u001b[0m \u001b[0;34m{\u001b[0m\u001b[0;34m'sparse'\u001b[0m\u001b[0;34m:\u001b[0m\u001b[0;32mTrue\u001b[0m\u001b[0;34m}\u001b[0m\u001b[0;34m)\u001b[0m\u001b[0;34m\u001b[0m\u001b[0;34m\u001b[0m\u001b[0m\n\u001b[0m\u001b[1;32m      6\u001b[0m \u001b[0;34m\u001b[0m\u001b[0m\n\u001b[1;32m      7\u001b[0m \u001b[0msol\u001b[0m \u001b[0;34m=\u001b[0m \u001b[0msolver\u001b[0m\u001b[0;34m(\u001b[0m\u001b[0;34m)\u001b[0m\u001b[0;34m\u001b[0m\u001b[0;34m\u001b[0m\u001b[0m\n",
      "\u001b[0;32m~/anaconda3/lib/python3.10/site-packages/casadi/casadi.py\u001b[0m in \u001b[0;36m?\u001b[0;34m(*args)\u001b[0m\n\u001b[1;32m  26908\u001b[0m \u001b[0;34m\u001b[0m\u001b[0m\n\u001b[1;32m  26909\u001b[0m \u001b[0;34m\u001b[0m\u001b[0m\n\u001b[1;32m  26910\u001b[0m \u001b[0;34m\u001b[0m\u001b[0m\n\u001b[1;32m  26911\u001b[0m     \"\"\"\n\u001b[0;32m> 26912\u001b[0;31m     \u001b[0;32mreturn\u001b[0m \u001b[0m_casadi\u001b[0m\u001b[0;34m.\u001b[0m\u001b[0mqpsol\u001b[0m\u001b[0;34m(\u001b[0m\u001b[0;34m*\u001b[0m\u001b[0margs\u001b[0m\u001b[0;34m)\u001b[0m\u001b[0;34m\u001b[0m\u001b[0;34m\u001b[0m\u001b[0m\n\u001b[0m",
      "\u001b[0;31mRuntimeError\u001b[0m: Error in SX::gradient at .../casadi/core/generic_matrix.hpp:1468:\nError in SX::jtimes at .../casadi/core/generic_matrix.hpp:1456:\nError in Function::Function for 'reverse_temp' [SXFunction] at .../casadi/core/function.cpp:224:\n.../casadi/core/function_internal.cpp:145: Error calling SXFunction::init for 'reverse_temp':\n.../casadi/core/x_function.hpp:331: For reverse_temp: Xfunction input arguments must be purely symbolic.\nArgument 0(i0) is not symbolic."
     ]
    }
   ],
   "source": []
  },
  {
   "cell_type": "code",
   "execution_count": null,
   "metadata": {},
   "outputs": [],
   "source": []
  }
 ],
 "metadata": {
  "kernelspec": {
   "display_name": "Python 3",
   "language": "python",
   "name": "python3"
  },
  "language_info": {
   "codemirror_mode": {
    "name": "ipython",
    "version": 3
   },
   "file_extension": ".py",
   "mimetype": "text/x-python",
   "name": "python",
   "nbconvert_exporter": "python",
   "pygments_lexer": "ipython3",
   "version": "3.10.9"
  },
  "orig_nbformat": 4
 },
 "nbformat": 4,
 "nbformat_minor": 2
}
