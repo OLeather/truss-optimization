{
 "cells": [
  {
   "cell_type": "markdown",
   "metadata": {},
   "source": [
    "## Small Truss"
   ]
  },
  {
   "cell_type": "code",
   "execution_count": null,
   "metadata": {},
   "outputs": [],
   "source": [
    "from truss import *\n",
    "\n",
    "TRAIN_WEIGHT_PER_M = 4 # kN/m\n",
    "BRIDGE_LENGTH = 14 # m\n",
    "\n",
    "joints = [\n",
    "    Joint(JointType.PIN, 0, 0, grounded=True),  # 0\n",
    "    Joint(JointType.ROLLER, 20, 0, grounded=True), # 1\n",
    "    Joint(JointType.GUSSET, 10, 20)] # 3\n",
    "links = [(0, 1), (1,2), (0,2)]\n",
    "\n",
    "train_force = Force(fx=0, fy=-TRAIN_WEIGHT_PER_M * BRIDGE_LENGTH, joints_applied=[0, 1])\n",
    "forces = [train_force]\n",
    "\n",
    "truss = Truss(joints, links, forces)\n",
    "truss.apply_external_forces()\n",
    "\n",
    "truss.print_forces()\n",
    "truss.plot(\"External Forces\", plot_external=True, plot_member=False)\n",
    "truss.solve()\n",
    "truss.plot(\"Member Forces\", plot_external=False, plot_member=True)"
   ]
  },
  {
   "cell_type": "markdown",
   "metadata": {},
   "source": [
    "## Medium Truss"
   ]
  },
  {
   "cell_type": "code",
   "execution_count": null,
   "metadata": {},
   "outputs": [],
   "source": [
    "from truss import *\n",
    "\n",
    "TRAIN_WEIGHT_PER_M = 4 # kN/m\n",
    "BRIDGE_LENGTH = 14 # m\n",
    "\n",
    "joints = [\n",
    "    Joint(JointType.PIN, 0, 0, grounded=True),  # 0\n",
    "    Joint(JointType.GUSSET, 10, 0), # 1\n",
    "    Joint(JointType.GUSSET, 20, 0), # 2\n",
    "    Joint(JointType.GUSSET, 30, 0), # 3\n",
    "    Joint(JointType.ROLLER, 40, 0, grounded=True), # 4 \n",
    "    Joint(JointType.GUSSET, 10, 20), # 5\n",
    "    Joint(JointType.GUSSET, 20, 20), # 6\n",
    "    Joint(JointType.GUSSET, 30, 20)] # 7\n",
    "links = [(0, 1), (1,2), (2,3), (3,4), (0,5), (1,5), (1,6), (2,6), (2,7), (3,7), (4,7), (5,6), (6,7)]\n",
    "\n",
    "train_force = Force(fx=0, fy=-TRAIN_WEIGHT_PER_M * BRIDGE_LENGTH, joints_applied=[0, 1, 2, 3, 4])\n",
    "forces = [train_force]\n",
    "\n",
    "truss = Truss(joints, links, forces)\n",
    "truss.apply_external_forces()\n",
    "\n",
    "truss.print_forces()\n",
    "truss.plot(\"External Forces\", plot_external=True, plot_member=False)\n",
    "truss.solve()\n",
    "truss.plot(\"Member Forces\", plot_external=False, plot_member=True)"
   ]
  },
  {
   "cell_type": "markdown",
   "metadata": {},
   "source": [
    "## Large Truss"
   ]
  },
  {
   "cell_type": "code",
   "execution_count": null,
   "metadata": {},
   "outputs": [],
   "source": [
    "from truss import *\n",
    "\n",
    "# 42 Unknowns\n",
    "\n",
    "TRAIN_WEIGHT_PER_M = 4 # kN/m\n",
    "BRIDGE_LENGTH = 14 # m\n",
    "\n",
    "joints = [\n",
    "    Joint(JointType.PIN, 0, 0, grounded=True),  # 0\n",
    "    Joint(JointType.GUSSET, 10, 0), # 1\n",
    "    Joint(JointType.GUSSET, 20, 0), # 2\n",
    "    Joint(JointType.GUSSET, 30, 0), # 3\n",
    "    Joint(JointType.GUSSET, 40, 0), # 4\n",
    "    Joint(JointType.GUSSET, 50, 0), # 5\n",
    "    Joint(JointType.GUSSET, 60, 0), # 6\n",
    "    Joint(JointType.GUSSET, 70, 0), # 7\n",
    "    Joint(JointType.GUSSET, 80, 0), # 8\n",
    "    Joint(JointType.GUSSET, 90, 0), # 9\n",
    "    Joint(JointType.ROLLER, 100, 0, grounded=True), # 10 \n",
    "    Joint(JointType.GUSSET, 5, 20), # 11\n",
    "    Joint(JointType.GUSSET, 15, 20), # 12\n",
    "    Joint(JointType.GUSSET, 25, 20), # 13\n",
    "    Joint(JointType.GUSSET, 35, 20), # 14\n",
    "    Joint(JointType.GUSSET, 45, 20), # 15\n",
    "    Joint(JointType.GUSSET, 55, 20), # 16\n",
    "    Joint(JointType.GUSSET, 65, 20), # 17\n",
    "    Joint(JointType.GUSSET, 76, 20), # 19\n",
    "    Joint(JointType.GUSSET, 85, 20), # 19\n",
    "    Joint(JointType.GUSSET, 95, 20)] # 20 \n",
    "links = [(0,1), (1,2), (2,3), (3,4), (4,5), (5,6), (6,7), (7,8), (8,9), (9,10), (0,11), (1,11), (1,12), (2,12), (2,13), (3,13), (3,14), (4,14), (4,15), (5,15), (5,16), (6,16), (6,17), (7,17), (7,18), (8,18), (8,19), (9,19), (9,20), (10,20), (11,12), (12,13), (13,14), (14,15), (15,16), (16,17), (17,18), (18,19), (19,20)]\n",
    "\n",
    "train_force = Force(fx=0, fy=-TRAIN_WEIGHT_PER_M * BRIDGE_LENGTH, joints_applied=[0, 1, 2, 3, 4, 5, 6, 7, 8, 9, 10])\n",
    "forces = [train_force]\n",
    "\n",
    "truss = Truss(joints, links, forces)\n",
    "truss.apply_external_forces()\n",
    "\n",
    "truss.print_forces()\n",
    "truss.plot(\"External Forces\", plot_external=True, plot_member=False)\n",
    "truss.solve()\n",
    "truss.plot(\"Member Forces\", plot_external=False, plot_member=True)"
   ]
  },
  {
   "cell_type": "code",
   "execution_count": null,
   "metadata": {},
   "outputs": [],
   "source": []
  }
 ],
 "metadata": {
  "kernelspec": {
   "display_name": "base",
   "language": "python",
   "name": "python3"
  },
  "language_info": {
   "codemirror_mode": {
    "name": "ipython",
    "version": 3
   },
   "file_extension": ".py",
   "mimetype": "text/x-python",
   "name": "python",
   "nbconvert_exporter": "python",
   "pygments_lexer": "ipython3",
   "version": "3.10.9"
  },
  "orig_nbformat": 4
 },
 "nbformat": 4,
 "nbformat_minor": 2
}
